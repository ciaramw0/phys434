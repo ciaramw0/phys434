{
 "cells": [
  {
   "cell_type": "code",
   "execution_count": 17,
   "id": "a133d236-1169-40c6-84a0-066e3cd97653",
   "metadata": {},
   "outputs": [],
   "source": [
    "import pickle\n",
    "import pandas as pd\n",
    "import numpy as np\n",
    "import matplotlib\n",
    "import matplotlib.pyplot as plt\n",
    "from scipy import stats\n",
    "import scipy\n",
    "plt.rcParams[\"figure.figsize\"] = (11,7)"
   ]
  },
  {
   "cell_type": "code",
   "execution_count": 2,
   "id": "da646fb0-ce37-4753-b26a-a41b16e073fe",
   "metadata": {},
   "outputs": [
    {
     "data": {
      "text/plain": [
       "Index(['pt', 'eta', 'phi', 'mass', 'ee2', 'ee3', 'd2', 'angularity', 't1',\n",
       "       't2', 't3', 't21', 't32', 'KtDeltaR'],\n",
       "      dtype='object')"
      ]
     },
     "execution_count": 2,
     "metadata": {},
     "output_type": "execute_result"
    }
   ],
   "source": [
    "infile = open (\"higgs_100000_pt_250_500.pkl\", 'rb')\n",
    "data_signal = pickle.load(infile)\n",
    "\n",
    "signal = pd.DataFrame(data_signal)\n",
    "signal.keys()"
   ]
  },
  {
   "cell_type": "code",
   "execution_count": 3,
   "id": "b29b5880-3b6f-4185-8ce6-099854190fde",
   "metadata": {},
   "outputs": [
    {
     "data": {
      "text/plain": [
       "Index(['pt', 'eta', 'phi', 'mass', 'ee2', 'ee3', 'd2', 'angularity', 't1',\n",
       "       't2', 't3', 't21', 't32', 'KtDeltaR'],\n",
       "      dtype='object')"
      ]
     },
     "execution_count": 3,
     "metadata": {},
     "output_type": "execute_result"
    }
   ],
   "source": [
    "infile2 = open (\"qcd_100000_pt_250_500.pkl\", 'rb')\n",
    "data_bg = pickle.load(infile2)\n",
    "\n",
    "background = pd.DataFrame(data_bg)\n",
    "background.keys()"
   ]
  },
  {
   "cell_type": "markdown",
   "id": "a49676e1-3104-4bcf-b21b-ef0152e8ebb0",
   "metadata": {},
   "source": [
    "### 1. Make a stacked histogram plot for the feature variable: mass"
   ]
  },
  {
   "cell_type": "code",
   "execution_count": 168,
   "id": "827ce455-f776-4d7f-9b93-8bce7a4b9d33",
   "metadata": {},
   "outputs": [],
   "source": [
    "def plot_stack(key, units):\n",
    "    plt.hist(signal[key], 500, weights = [.001]*len(signal), histtype = 'step', fill = False)\n",
    "    plt.hist(background[key], 500, weights = [.2]*len(background), histtype = 'step', fill = False)\n",
    "    plt.xlabel('Signal ' + key + ' (' + units + ')')\n",
    "    plt.ylabel('Counts')\n",
    "    plt.show()"
   ]
  },
  {
   "cell_type": "code",
   "execution_count": 169,
   "id": "9a062603-6c29-4777-a269-8db958fd52c6",
   "metadata": {},
   "outputs": [
    {
     "data": {
      "image/png": "[encoded data removed]",
      "text/plain": [
       "<Figure size 792x504 with 1 Axes>"
      ]
     },
     "metadata": {
      "needs_background": "light"
     },
     "output_type": "display_data"
    }
   ],
   "source": [
    "plot_stack('mass', 'GeV')"
   ]
  },
  {
   "cell_type": "markdown",
   "id": "8a5bdecd-531c-4bfb-a2df-41388608caf4",
   "metadata": {},
   "source": [
    "Make sure histogram is normalized:"
   ]
  },
  {
   "cell_type": "markdown",
   "id": "c035eb82-1984-4cc1-86e2-af1e572f2b09",
   "metadata": {},
   "source": [
    "#### Evaluate expected significance without any event selection. Use Poisson statistics for significance calculation. Compare the exact significance to the approximation $\\frac{N_{Higgs}}{\\sqrt(N_{QCD})} $. If they are equivalent, explain your findings.\n",
    "\n",
    "From the classification of the low pt data, we have a poisson background with a mean of 20000 and an expected 100 Higgs events. We can calculate the significance of the background plus the amount of expected events. "
   ]
  },
  {
   "cell_type": "code",
   "execution_count": 47,
   "id": "f0278056-6b46-4531-9c3c-c7126b40edfb",
   "metadata": {},
   "outputs": [
    {
     "name": "stdout",
     "output_type": "stream",
     "text": [
      "sigma significance of 0.71\n"
     ]
    }
   ],
   "source": [
    "# Calculate significance\n",
    "p = (1-scipy.stats.poisson.cdf(20100, 20000))\n",
    "print('sigma significance of {0:1.2f}'.format(stats.norm.ppf(1-p)))"
   ]
  },
  {
   "cell_type": "code",
   "execution_count": null,
   "id": "9aa1b654-a45e-4422-a23c-7e72a324a02e",
   "metadata": {},
   "outputs": [],
   "source": [
    "# Approximation \n",
    "print('{0:1.2f}'.format(100/np.sqrt(20000)))"
   ]
  },
  {
   "cell_type": "markdown",
   "id": "7f8b413b-742d-46b5-bea4-82da7d3ff07e",
   "metadata": {},
   "source": [
    "!!!explain this,Why are they the same"
   ]
  },
  {
   "cell_type": "markdown",
   "id": "f6356442-c0f2-423b-a746-a2eea6068fd0",
   "metadata": {},
   "source": [
    "### 2. Identify mass cuts to optimize the expected significance.\n",
    "Try different mass cuts systematically\n",
    "\n",
    "Evaluate expected significance for each set of mass cuts\n",
    "\n",
    "Identify the set of mass cuts which give you the highest significance."
   ]
  },
  {
   "cell_type": "code",
   "execution_count": 125,
   "id": "7a4c18b9-d995-4c11-b6d2-cb550dc969c6",
   "metadata": {},
   "outputs": [],
   "source": [
    "def slicer(lower, upper, key, signal, bkgd):\n",
    "    bkgd_n = bkgd[key]\n",
    "    signal_n = signal[key]\n",
    "    bkgd_slice = bkgd_n[lower:upper:1]\n",
    "    signal_slice = signal_n[lower:upper:1]\n",
    "    \n",
    "    bkgd_avg = 20000 * len(bkgd_slice)/len(bkgd_n)\n",
    "    signal_avg = 100 * len(signal_slice)/len(signal_n)\n",
    "    \n",
    "    p = (1-scipy.stats.poisson.cdf(bkgd_avg + signal_avg, bkgd_avg))\n",
    "    print('Significance of {0:1.3f} for a cut from {1:1.1f} to {2:1.1f}'.format(stats.norm.ppf(1-p),lower,upper))\n",
    "\n",
    "    return(signal_slice, bkgd_slice)"
   ]
  },
  {
   "cell_type": "code",
   "execution_count": 126,
   "id": "fb221d22-73fa-4f1a-a926-976443a09f56",
   "metadata": {},
   "outputs": [
    {
     "name": "stdout",
     "output_type": "stream",
     "text": [
      "Significance of 0.286 for a cut from 0.0 to 3000.0\n"
     ]
    }
   ],
   "source": [
    "signal_slice, bkgd_slice = slicer(0,3000, 'mass', signal, background)"
   ]
  },
  {
   "cell_type": "markdown",
   "id": "6abb4ec9-a0a6-4c70-9a72-3e7e51d39330",
   "metadata": {},
   "source": [
    "### 3. Make two sets of stacked histogram plots for the rest of the features\n",
    "Set A without any event selection\n",
    "\n",
    "-Can you identify another feature as discriminative as mass? (i.e. equal or better significance after feature cut)\n",
    "\n",
    "Set B with your optimal mass cuts\n",
    "\n",
    "-Can you identify another feature to further improve your expected signifiance?"
   ]
  },
  {
   "cell_type": "markdown",
   "id": "f796bb6a-e4d0-46c1-bdef-2e836e8f16f5",
   "metadata": {},
   "source": [
    "### 4. Optimize event selections using multiple features (if necessary)\n",
    "Find a set of feature cuts which achieve high expected significance.\n",
    "\n",
    "Compare significance (before/after event selection) derived in your pT samples to your lab partner. Describe your findings."
   ]
  },
  {
   "cell_type": "code",
   "execution_count": null,
   "id": "9fef053e-9d66-4f60-9455-d2bf515c4cd8",
   "metadata": {},
   "outputs": [],
   "source": []
  }
 ],
 "metadata": {
  "kernelspec": {
   "display_name": "Python 3",
   "language": "python",
   "name": "python3"
  },
  "language_info": {
   "codemirror_mode": {
    "name": "ipython",
    "version": 3
   },
   "file_extension": ".py",
   "mimetype": "text/x-python",
   "name": "python",
   "nbconvert_exporter": "python",
   "pygments_lexer": "ipython3",
   "version": "3.8.8"
  }
 },
 "nbformat": 4,
 "nbformat_minor": 5
}
