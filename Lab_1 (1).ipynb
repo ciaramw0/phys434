{
 "cells": [
  {
   "cell_type": "code",
   "execution_count": 34,
   "id": "8dc2a06e-b560-4ecd-bed8-d6fc662e4883",
   "metadata": {},
   "outputs": [],
   "source": [
    "import numpy as np\n",
    "import matplotlib\n",
    "import matplotlib.pyplot as plt\n",
    "import scipy\n",
    "from scipy import stats\n",
    "import scipy.integrate as integrate\n",
    "import math\n",
    "from scipy.stats import lognorm\n",
    "#this sets the size of the plot to something useful\n",
    "plt.rcParams[\"figure.figsize\"] = (10,10)\n",
    "\n",
    "from IPython.display import Image"
   ]
  },
  {
   "cell_type": "markdown",
   "id": "73e974a2-aac4-440d-800c-708c89cc9ed5",
   "metadata": {},
   "source": [
    "### A Little Statistics"
   ]
  },
  {
   "cell_type": "markdown",
   "id": "7e4ce116-f454-436a-9dda-8af066536605",
   "metadata": {},
   "source": [
    "### Problem 1: A normal, or Gaussian, distribution is characterized by a bell curve, where the mean, median, and mode are all the same value in the middle of the distribution and the rest of the distribtion is symmetric around this value. For a standard normal distribution the mean is at 0 and the variance and standard deviatiaon is equal to 1. \n",
    "Integrating the normal distribution using cdf() will provide us with the probability up to the standard deviation that we choose, the integral of the distribtion is called the error function. Positive sigma values will give us a probability up to the sigma on the right of the mean. Therefore negative sigma values will provide the probability up to the sigma value to the left of the mean. Here are a few probability calculations using stats.norm.cdf() with sigma values 1, 2, and 5 respectively. "
   ]
  },
  {
   "cell_type": "markdown",
   "id": "971cda4e-a01f-4865-8b4c-f61e2b4d0215",
   "metadata": {},
   "source": [
    "Probability of sigma = 1, this will give us the percentage probability under the normal distribution if we integrated from negative infinity up to 1 sigma to the right of the mean. Since the distribution is symmetric and centered on 0 sigma, one sigma to the right should correspond to about 84.1%. "
   ]
  },
  {
   "cell_type": "code",
   "execution_count": 4,
   "id": "c25f0097-4715-460b-b281-afe3b2654368",
   "metadata": {},
   "outputs": [
    {
     "name": "stdout",
     "output_type": "stream",
     "text": [
      "0.8413447460685429\n"
     ]
    }
   ],
   "source": [
    "prob_1 = stats.norm.cdf(1, loc = 0, scale = 1)\n",
    "print(prob_1)"
   ]
  },
  {
   "cell_type": "markdown",
   "id": "b0a22aee-289e-4812-b634-c25c97838561",
   "metadata": {},
   "source": [
    "Probability of sigma = 2, this should correspond to about 97%, 2 sigma to the right of the mean in a gaussian curve is almost the entire distribution, excluding some of the rightmost tail. "
   ]
  },
  {
   "cell_type": "code",
   "execution_count": 5,
   "id": "c5591b9e-727e-43a5-8a87-87f3dcd76bb5",
   "metadata": {},
   "outputs": [
    {
     "name": "stdout",
     "output_type": "stream",
     "text": [
      "0.9772498680518208\n"
     ]
    }
   ],
   "source": [
    "prob_2 = stats.norm.cdf(2, loc = 0, scale = 1)\n",
    "print(prob_2)"
   ]
  },
  {
   "cell_type": "markdown",
   "id": "0b02e9f7-a0a7-46a7-9b01-0638a1024f17",
   "metadata": {},
   "source": [
    "This is another method to get the same answer as above, for 2 sigma. Since the normal distribution is symmetric we can integrate up to -2 sigma, which would be 2 sigma to the left of the mean, a much smaller probability. If we calculate this percentage, we must subtract it from 1 in order to get the same answer for 2 sigma. "
   ]
  },
  {
   "cell_type": "code",
   "execution_count": 6,
   "id": "8b17eba2-4d32-491a-a41b-c21900f31186",
   "metadata": {},
   "outputs": [
    {
     "name": "stdout",
     "output_type": "stream",
     "text": [
      "0.9772498680518208\n"
     ]
    }
   ],
   "source": [
    "prob_neg2 = stats.norm.cdf(-2, loc = 0, scale = 1)\n",
    "print(1-prob_neg2)"
   ]
  },
  {
   "cell_type": "markdown",
   "id": "9b55b904-b7a0-4a26-ae1f-9f9677b63ce7",
   "metadata": {},
   "source": [
    "Probability of sigma = 5, up to 5 sigma is going to be very close to 100% because it contains almost the entire area under the normal distribution."
   ]
  },
  {
   "cell_type": "code",
   "execution_count": 7,
   "id": "9899f921-ccd5-4dfb-9999-ef988e9a81fb",
   "metadata": {},
   "outputs": [
    {
     "name": "stdout",
     "output_type": "stream",
     "text": [
      "0.9999997133484281\n"
     ]
    }
   ],
   "source": [
    "prob_5 = stats.norm.cdf(5, loc = 0, scale = 1)\n",
    "print(prob_5)"
   ]
  },
  {
   "cell_type": "markdown",
   "id": "6d387d47-97c0-4c7a-a6a6-66d075302f58",
   "metadata": {},
   "source": [
    "What if we only want the probability of 2 sigma or higher? There are 2 ways to approach this: We could do the integral up to -2 sigma, or we could subtract the integral up to 2 sigma from 1."
   ]
  },
  {
   "cell_type": "code",
   "execution_count": 9,
   "id": "2ed5dc93-8ca4-4bab-9d47-ef9e77f90ea3",
   "metadata": {},
   "outputs": [
    {
     "name": "stdout",
     "output_type": "stream",
     "text": [
      "0.022750131948179195\n"
     ]
    }
   ],
   "source": [
    "print(prob_neg2)"
   ]
  },
  {
   "cell_type": "code",
   "execution_count": 10,
   "id": "7cb30467-9513-44f1-ab0b-45b3619503f9",
   "metadata": {},
   "outputs": [
    {
     "name": "stdout",
     "output_type": "stream",
     "text": [
      "0.02275013194817921\n"
     ]
    }
   ],
   "source": [
    "print(1-prob_2)"
   ]
  },
  {
   "cell_type": "markdown",
   "id": "0d420b0c-eff5-4813-84f3-ddf8042f59d4",
   "metadata": {},
   "source": [
    "# Now we can go the opposite way using the percent point function stats.norm.ppf(), which is simply the inverse of the cdf(). With this function we can input a percentage probability and find the sigma value that this corresponds to. Again, this will provide the answer as if we were integrating up to the value from negative infinity, not from the mean. "
   ]
  },
  {
   "cell_type": "markdown",
   "id": "1ee743d2-3efd-47e1-b0ad-c3387fe959a9",
   "metadata": {},
   "source": [
    "Sigma of probability = .93319, this should provide a sigma value between 1 and 2 because 1 sigma is ~84% and 2 sigma is ~97%. I chose this probability from the z table to correspond to ~1.5 sigma."
   ]
  },
  {
   "cell_type": "code",
   "execution_count": 6,
   "id": "89b9e726-5f27-4c77-83d7-b927d8e72f73",
   "metadata": {},
   "outputs": [
    {
     "data": {
      "text/plain": [
       "1.4999783914627915"
      ]
     },
     "execution_count": 6,
     "metadata": {},
     "output_type": "execute_result"
    }
   ],
   "source": [
    "stats.norm.ppf(.93319)"
   ]
  },
  {
   "cell_type": "markdown",
   "id": "198bc504-6a49-44c8-b2a3-e6a24bd8f568",
   "metadata": {},
   "source": [
    "Sigma of probability = .99865, according to z table this should correspond to 3 sigma."
   ]
  },
  {
   "cell_type": "code",
   "execution_count": 7,
   "id": "da468bbb-a18f-4aec-82c3-58b42f536a3a",
   "metadata": {},
   "outputs": [
    {
     "data": {
      "text/plain": [
       "2.9999769927034015"
      ]
     },
     "execution_count": 7,
     "metadata": {},
     "output_type": "execute_result"
    }
   ],
   "source": [
    "stats.norm.ppf(.99865)"
   ]
  },
  {
   "cell_type": "markdown",
   "id": "70ddb503-070f-43d5-a16b-0dfc429a90db",
   "metadata": {},
   "source": [
    "Sigma of probability = .5, according to z table this should correspond to 0 sigma, meaning it is the mean."
   ]
  },
  {
   "cell_type": "code",
   "execution_count": 12,
   "id": "d26b5540-148f-4029-90cd-abb958c51731",
   "metadata": {},
   "outputs": [
    {
     "data": {
      "text/plain": [
       "0.0"
      ]
     },
     "execution_count": 12,
     "metadata": {},
     "output_type": "execute_result"
    }
   ],
   "source": [
    "stats.norm.ppf(.5)"
   ]
  },
  {
   "cell_type": "markdown",
   "id": "b1e5c99d-aad7-4c80-9c00-e19b999d5afe",
   "metadata": {},
   "source": [
    "Sigma of probability = .15866, according to z table this should correspond to -1."
   ]
  },
  {
   "cell_type": "code",
   "execution_count": 15,
   "id": "12214886-0375-4911-8131-71a19c28a1af",
   "metadata": {},
   "outputs": [
    {
     "data": {
      "text/plain": [
       "-0.9999803859660787"
      ]
     },
     "execution_count": 15,
     "metadata": {},
     "output_type": "execute_result"
    }
   ],
   "source": [
    "stats.norm.ppf(.15866)"
   ]
  },
  {
   "cell_type": "markdown",
   "id": "661fb60f-e453-4073-94e3-2eea8c9d46b7",
   "metadata": {},
   "source": [
    "The negative sigma value means that the percent probability of 15.866% corresponds to a sigma that is 1 sigma to the left of the mean."
   ]
  },
  {
   "cell_type": "markdown",
   "id": "226a1821-0495-4bc7-804d-0eaf7e548b4d",
   "metadata": {},
   "source": [
    "## Problem 2: Lognormal Distribution\n",
    "A distribution is lognormal if F(x) = ln(x) is normally distributed. For this distribution mu and sigma must both be greater than 0. Below are a couple plots to show how the distribution changes with different values of mu and sigma. "
   ]
  },
  {
   "cell_type": "code",
   "execution_count": 30,
   "id": "0d925eed-6305-4b11-9b8a-b7244d4f17fb",
   "metadata": {},
   "outputs": [],
   "source": [
    "mu, sigma = 3., 1. # mean and standard deviation\n",
    "s = np.random.lognormal(mu, sigma, 100000)"
   ]
  },
  {
   "cell_type": "code",
   "execution_count": 31,
   "id": "a0f39646-183f-4ae6-8eb5-852d9a9477b3",
   "metadata": {},
   "outputs": [
    {
     "data": {
      "image/png": "[encoded data removed]",
      "text/plain": [
       "<Figure size 720x720 with 1 Axes>"
      ]
     },
     "metadata": {
      "needs_background": "light"
     },
     "output_type": "display_data"
    }
   ],
   "source": [
    "count, bins, ignored = plt.hist(s, 100, density=True, align='mid')\n",
    "x = np.linspace(min(bins), max(bins), 10000)\n",
    "pdf = (np.exp(-(np.log(x) - mu)**2 / (2 * sigma**2))\n",
    "       / (x * sigma * np.sqrt(2 * np.pi)))\n",
    "plt.plot(x, pdf, linewidth=2, color='r')\n",
    "plt.axis('tight')\n",
    "plt.show()"
   ]
  },
  {
   "cell_type": "markdown",
   "id": "9b3f5395-52f6-4185-83e4-92f78597ba79",
   "metadata": {},
   "source": [
    "How does the shape of the probability distribution change when we adjust the mean and standard deviation (mu, sigma)? "
   ]
  },
  {
   "cell_type": "code",
   "execution_count": 18,
   "id": "08bf6e18-bcc1-40bd-aa9e-df749e7ecd66",
   "metadata": {},
   "outputs": [],
   "source": [
    "mu, sigma = 1., .5 # mean and standard deviation\n",
    "s = np.random.lognormal(mu, sigma, 100000)"
   ]
  },
  {
   "cell_type": "code",
   "execution_count": 19,
   "id": "04873991-caf6-41cd-be4d-95ad2eddfb7d",
   "metadata": {},
   "outputs": [
    {
     "data": {
      "image/png": "[encoded data removed]",
      "text/plain": [
       "<Figure size 720x720 with 1 Axes>"
      ]
     },
     "metadata": {
      "needs_background": "light"
     },
     "output_type": "display_data"
    }
   ],
   "source": [
    "count, bins, ignored = plt.hist(s, 100, density=True, align='mid')\n",
    "x = np.linspace(min(bins), max(bins), 10000)\n",
    "pdf = (np.exp(-(np.log(x) - mu)**2 / (2 * sigma**2))\n",
    "       / (x * sigma * np.sqrt(2 * np.pi)))\n",
    "plt.plot(x, pdf, linewidth=2, color='r')\n",
    "plt.axis('tight')\n",
    "plt.show()"
   ]
  },
  {
   "cell_type": "markdown",
   "id": "fdd6b4d9-e015-4b60-bb26-55e0b7c05dc9",
   "metadata": {},
   "source": [
    "## Problem 3"
   ]
  },
  {
   "cell_type": "markdown",
   "id": "2839a7b2-6a3e-4a68-9537-bb08fa950fac",
   "metadata": {},
   "source": [
    "Using the second lognormal plot and a hypothetical value of 5, I will determine the corresponding value of sigma for my hypothetical measurement. "
   ]
  },
  {
   "cell_type": "code",
   "execution_count": 77,
   "id": "4a1b4d16-6e87-497a-915c-0abdd28a3784",
   "metadata": {},
   "outputs": [],
   "source": [
    "val = 5\n",
    "sigma = .5\n",
    "mu = 1\n",
    "\n",
    "frozen_lognorm = stats.lognorm(s = sigma, scale = math.exp(mu))"
   ]
  },
  {
   "cell_type": "markdown",
   "id": "c81b5f37-e628-4b36-b759-c9b82a3c6024",
   "metadata": {},
   "source": [
    "What is the probability that the background produces a signal that is equally or more signal like than what I observed? And if my data were Gaussian, what is this probability expressed in terms of sigma from the mean? "
   ]
  },
  {
   "cell_type": "markdown",
   "id": "f4030222-1669-4d87-a18b-1dae5e294441",
   "metadata": {},
   "source": [
    "This is the integral that will give us the probability of the background signal being as or more signal like as the observation, from the lognormal distribution. This integral can be evaluated with the cdf() method of the lognormal distribution:"
   ]
  },
  {
   "cell_type": "code",
   "execution_count": 36,
   "id": "b285fc54-d8e9-4dbe-82e0-25cd73f81c3c",
   "metadata": {},
   "outputs": [
    {
     "data": {
      "image/jpeg": "[encoded data removed]",
      "text/plain": [
       "<IPython.core.display.Image object>"
      ]
     },
     "execution_count": 36,
     "metadata": {},
     "output_type": "execute_result"
    }
   ],
   "source": [
    "Image(filename='pdf int.JPG') "
   ]
  },
  {
   "cell_type": "code",
   "execution_count": 80,
   "id": "e260cb71-cd12-413a-8b59-d805066283ea",
   "metadata": {},
   "outputs": [
    {
     "name": "stdout",
     "output_type": "stream",
     "text": [
      "0.1114456632931925\n"
     ]
    }
   ],
   "source": [
    "probability = frozen_lognorm.cdf(val)\n",
    "print(1 - probability)"
   ]
  },
  {
   "cell_type": "markdown",
   "id": "61cfc127-806b-4b98-8122-02ea0fba27e5",
   "metadata": {},
   "source": [
    "This is the integral that shows if our distribution was gaussian, what value of sigma we would need to produce the probability that the first integral gave us, we use the stats.ppf() method to find sigma from the integral."
   ]
  },
  {
   "cell_type": "code",
   "execution_count": 37,
   "id": "ba042969-454f-444a-9546-e4760eeac3c2",
   "metadata": {},
   "outputs": [
    {
     "data": {
      "image/jpeg": "[encoded data removed]",
      "text/plain": [
       "<IPython.core.display.Image object>"
      ]
     },
     "execution_count": 37,
     "metadata": {},
     "output_type": "execute_result"
    }
   ],
   "source": [
    "Image(filename='gaus int.JPG') "
   ]
  },
  {
   "cell_type": "markdown",
   "id": "ac2adffe-385c-4f02-b5e2-d2a247d8be69",
   "metadata": {},
   "source": [
    "Now that we have a probability from our lognormal distribution, we use the ppf() method to convert this percent probability into the corresponding sigma value from a standard\n",
    "normal distribution."
   ]
  },
  {
   "cell_type": "code",
   "execution_count": 79,
   "id": "f2c255f6-96b3-47d7-8c4b-3407c436023a",
   "metadata": {},
   "outputs": [
    {
     "name": "stdout",
     "output_type": "stream",
     "text": [
      "1.218875824868201\n"
     ]
    }
   ],
   "source": [
    "sigma = stats.norm.ppf(probability)\n",
    "print(sigma)"
   ]
  },
  {
   "cell_type": "markdown",
   "id": "feae9bb7-2d6b-45f9-950c-2ac2f3bffe41",
   "metadata": {},
   "source": [
    "For a probability that the background produced a signal as signal like or more at x = 5 is 1.22 sigma, which corresponds to 11.14%."
   ]
  },
  {
   "cell_type": "markdown",
   "id": "4641a729-ec93-45ec-8f73-de344cd0837f",
   "metadata": {},
   "source": [
    "## Another hypothetical measurement\n",
    "What is the probability that the background produced a signal as signal like or more than what I observed? "
   ]
  },
  {
   "cell_type": "code",
   "execution_count": 81,
   "id": "dc08855c-2c35-4de3-a06e-55a4c7189b35",
   "metadata": {},
   "outputs": [],
   "source": [
    "val = 10\n",
    "sigma = .5\n",
    "mu = 1\n",
    "\n",
    "frozen_lognorm = stats.lognorm(s = sigma, scale = math.exp(mu))"
   ]
  },
  {
   "cell_type": "code",
   "execution_count": 82,
   "id": "ca7aa0b0-3389-4fe4-a0b1-24a01fa9193c",
   "metadata": {},
   "outputs": [
    {
     "name": "stdout",
     "output_type": "stream",
     "text": [
      "0.00459143175747001\n"
     ]
    }
   ],
   "source": [
    "probability = frozen_lognorm.cdf(val)\n",
    "print(1 - probability)"
   ]
  },
  {
   "cell_type": "code",
   "execution_count": 83,
   "id": "14473caa-8be2-4d13-b288-cb3e7c2a0b66",
   "metadata": {},
   "outputs": [
    {
     "name": "stdout",
     "output_type": "stream",
     "text": [
      "2.605170185988088\n"
     ]
    }
   ],
   "source": [
    "sigma = stats.norm.ppf(probability)\n",
    "print(sigma)"
   ]
  },
  {
   "cell_type": "markdown",
   "id": "fb172adb-7988-4f1e-9ce7-b494d9fa5e3a",
   "metadata": {},
   "source": [
    "From the lognormal distribution plot above, we see that at x=10 it is at the very tail, meaning it should provide us with a very small probability. This is true from the above calculations, it is .5% probability or 2.6 sigma."
   ]
  },
  {
   "cell_type": "markdown",
   "id": "2730169b-7f5c-4fe2-a016-07acb36bf01a",
   "metadata": {},
   "source": [
    "## Another hypothetical measurement: \n",
    "What is the probability that the background gave a signal as signal-like or more as what I observed?"
   ]
  },
  {
   "cell_type": "code",
   "execution_count": 89,
   "id": "0dc90bda-d93b-4988-a6e1-0b530fdd351f",
   "metadata": {},
   "outputs": [],
   "source": [
    "val = 2.5\n",
    "sigma = .5\n",
    "mu = 1\n",
    "\n",
    "frozen_lognorm = stats.lognorm(s = sigma, scale = math.exp(mu))"
   ]
  },
  {
   "cell_type": "code",
   "execution_count": 92,
   "id": "bfa30714-883b-485f-9ddf-8a5e3e60bbbe",
   "metadata": {},
   "outputs": [
    {
     "name": "stdout",
     "output_type": "stream",
     "text": [
      "0.5664796294053391\n"
     ]
    }
   ],
   "source": [
    "probability = frozen_lognorm.cdf(val)\n",
    "print( 1- probability)"
   ]
  },
  {
   "cell_type": "code",
   "execution_count": 95,
   "id": "70ffea9b-189f-4f43-bb16-bcd2fa45fd73",
   "metadata": {},
   "outputs": [
    {
     "name": "stdout",
     "output_type": "stream",
     "text": [
      "0.16741853625168993\n"
     ]
    }
   ],
   "source": [
    "sigma = stats.norm.ppf(1- probability)\n",
    "print(sigma)"
   ]
  },
  {
   "cell_type": "markdown",
   "id": "75c5a395-2189-4da0-a342-196a35b6de35",
   "metadata": {},
   "source": [
    "For this measurement I chose a value close to the peak so that I could verify that the probability made sense. For x = 2.5 a probability of 43.4% does make sense because it is close to half the area of the distribution as seen in the plot from above. "
   ]
  },
  {
   "cell_type": "markdown",
   "id": "11c52d2e-7868-481e-a125-889246310e7c",
   "metadata": {},
   "source": [
    "## Each hypothetical measurement produced results that made sense based on the lognormal distribution that is plotted above. The distribution is similarly shaped to a gaussian, but it is not symmetric about the mean. Since it is lognormal, values below zero do not exist, which means it is not symmetric about mu. I observed this through my calculations when x = 2.5 produced a probability close to 50%, which would correspond to the mean in a normal distribution. The sigmas are consistent with the first part of the lab because they are calculated from the standard normal distribution. "
   ]
  },
  {
   "cell_type": "markdown",
   "id": "06932d92-a740-42aa-94d4-e816887bdf9f",
   "metadata": {},
   "source": [
    "# Non-continuous Distributions: Poisson"
   ]
  },
  {
   "cell_type": "markdown",
   "id": "0c11d1a6-c56c-4a11-a186-f906f59852e7",
   "metadata": {},
   "source": [
    "Poisson distribution models a discrete number of events that occur in a certain period of time, area or volume, and so on. These events are independent of each other, and the distribution is only characterized by lambda, the mean. Here are a few plots of a Poisson distribution with varying sample sizes and means."
   ]
  },
  {
   "cell_type": "code",
   "execution_count": 122,
   "id": "04b94a6c-40e7-4bf1-870c-274fe00da9a8",
   "metadata": {},
   "outputs": [
    {
     "data": {
      "image/jpeg": "[encoded data removed]",
      "text/plain": [
       "<IPython.core.display.Image object>"
      ]
     },
     "execution_count": 122,
     "metadata": {},
     "output_type": "execute_result"
    }
   ],
   "source": [
    "Image(filename='poisson.JPG') "
   ]
  },
  {
   "cell_type": "code",
   "execution_count": 116,
   "id": "34be1c78-6348-4097-a8fa-bb8df9767039",
   "metadata": {},
   "outputs": [],
   "source": [
    "s = np.random.poisson(lam = 5, size = 100) # draw samples, "
   ]
  },
  {
   "cell_type": "code",
   "execution_count": 117,
   "id": "77d56b04-a907-40cb-95e5-50a8cb253ccc",
   "metadata": {},
   "outputs": [
    {
     "data": {
      "image/png": "[encoded data removed]",
      "text/plain": [
       "<Figure size 720x720 with 1 Axes>"
      ]
     },
     "metadata": {
      "needs_background": "light"
     },
     "output_type": "display_data"
    }
   ],
   "source": [
    "count, bins, ignored = plt.hist(s, 20)\n",
    "plt.show() # plot histogram"
   ]
  },
  {
   "cell_type": "code",
   "execution_count": 118,
   "id": "a8af8046-d687-4ca9-90a6-22ec69604db9",
   "metadata": {},
   "outputs": [
    {
     "data": {
      "image/png": "[encoded data removed]",
      "text/plain": [
       "<Figure size 720x720 with 1 Axes>"
      ]
     },
     "metadata": {
      "needs_background": "light"
     },
     "output_type": "display_data"
    }
   ],
   "source": [
    "s = np.random.poisson(lam = 15, size = 1000) # draw samples\n",
    "count, bins, ignored = plt.hist(s, 20)\n",
    "plt.show() # plot histogram"
   ]
  },
  {
   "cell_type": "code",
   "execution_count": 110,
   "id": "b320738c-b7bf-4464-913a-504c65930f00",
   "metadata": {},
   "outputs": [
    {
     "data": {
      "image/png": "[encoded data removed]",
      "text/plain": [
       "<Figure size 720x720 with 1 Axes>"
      ]
     },
     "metadata": {
      "needs_background": "light"
     },
     "output_type": "display_data"
    }
   ],
   "source": [
    "s = np.random.poisson(lam = 100, size = 10000) # draw samples\n",
    "count, bins, ignored = plt.hist(s, 20)\n",
    "plt.show() # plot histogram"
   ]
  },
  {
   "cell_type": "markdown",
   "id": "bdfb7ff8-138c-4be9-aad0-5c87585cf5e6",
   "metadata": {},
   "source": [
    "The lambda value in the Poisson distribution corresponds to the mean. In each plot it is clear that the lambda value is roughly in the center of each distribution. As I increased the sample size the distribution appeared to become more symmetric. The variance increases as lambda increases as well because it is equal to the square root of lambda."
   ]
  },
  {
   "cell_type": "markdown",
   "id": "a7beed98-d27b-4983-b5f0-9fd462489e29",
   "metadata": {},
   "source": [
    "# What is the probability that the background produced a signal as signal-like or more than what I observed? "
   ]
  },
  {
   "cell_type": "code",
   "execution_count": 119,
   "id": "9adccc2f-23ad-4721-b6aa-7f497498e31a",
   "metadata": {},
   "outputs": [],
   "source": [
    "val = 120\n",
    "lam = 100\n",
    "\n",
    "frozen_poisson = stats.poisson(lam)"
   ]
  },
  {
   "cell_type": "code",
   "execution_count": 120,
   "id": "e9392abe-3458-4497-9fc4-11ff4e1f2020",
   "metadata": {},
   "outputs": [
    {
     "name": "stdout",
     "output_type": "stream",
     "text": [
      "0.02266932907835273\n"
     ]
    }
   ],
   "source": [
    "probability = frozen_poisson.cdf(val)\n",
    "print( 1- probability)"
   ]
  },
  {
   "cell_type": "code",
   "execution_count": 121,
   "id": "860b05a4-6d8a-4425-bad0-e7c290443486",
   "metadata": {},
   "outputs": [
    {
     "name": "stdout",
     "output_type": "stream",
     "text": [
      "2.0014988446547286\n"
     ]
    }
   ],
   "source": [
    "sigma = stats.norm.ppf(probability)\n",
    "print(sigma)"
   ]
  },
  {
   "cell_type": "markdown",
   "id": "79eba8bd-3e62-4f6d-8983-aec60ea87831",
   "metadata": {},
   "source": [
    "The mean of a Poisson distribution can be a non-integer value, but that does not mean the expected value will be non-integer, it will just be the integer closest to the mean. Even though each event is discrete, we can end up with non-integer parameters because the amount of occurences of the events. "
   ]
  },
  {
   "cell_type": "code",
   "execution_count": null,
   "id": "48cd79e9-e470-4171-8a34-f08bcba06230",
   "metadata": {},
   "outputs": [],
   "source": []
  }
 ],
 "metadata": {
  "kernelspec": {
   "display_name": "Python 3",
   "language": "python",
   "name": "python3"
  },
  "language_info": {
   "codemirror_mode": {
    "name": "ipython",
    "version": 3
   },
   "file_extension": ".py",
   "mimetype": "text/x-python",
   "name": "python",
   "nbconvert_exporter": "python",
   "pygments_lexer": "ipython3",
   "version": "3.8.8"
  }
 },
 "nbformat": 4,
 "nbformat_minor": 5
}
