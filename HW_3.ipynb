{
 "cells": [
  {
   "cell_type": "code",
   "execution_count": 4,
   "id": "32f500f4-0ff0-491b-8a81-1f1c8009d6f3",
   "metadata": {},
   "outputs": [],
   "source": [
    "import numpy as np\n",
    "import pandas"
   ]
  },
  {
   "cell_type": "markdown",
   "id": "17521272-3fd3-44aa-9e81-8b93263c3270",
   "metadata": {},
   "source": [
    "## Problem 1"
   ]
  },
  {
   "cell_type": "code",
   "execution_count": 4,
   "id": "70ea88c9-408b-44d3-b772-1787bf55ce19",
   "metadata": {},
   "outputs": [],
   "source": [
    "NNbird = [45,3]\n",
    "NNperson = [5, 47]\n",
    "\n",
    "NAbird = [47,1]\n",
    "NAperson = [11,42]"
   ]
  },
  {
   "cell_type": "markdown",
   "id": "56d4e29f-9eef-40c0-9858-b1e0c9f5ebc6",
   "metadata": {},
   "source": [
    "<table>\n",
    "  <thead>\n",
    "    <tr>\n",
    "      <th> </th>\n",
    "      <th>True Bird</th>\n",
    "      <th>True Person</th>\n",
    "    </tr>\n",
    "  </thead>\n",
    "  <tbody>\n",
    "    <tr>\n",
    "      <th>NN Bird</th>\n",
    "      <td>45</td>\n",
    "      <td>5</td>\n",
    "    </tr>\n",
    "    <tr>\n",
    "      <th>NN Person</th>  \n",
    "      <td>3</td>\n",
    "      <td>47</td>\n",
    "    </tr>\n",
    "  </tbody>\n",
    "</table>\n",
    "<table>\n",
    "  <thead>\n",
    "    <tr>\n",
    "      <th> </th>\n",
    "      <th>True Bird</th>\n",
    "      <th>True Person</th>\n",
    "    </tr>\n",
    "  </thead>\n",
    "  <tbody>\n",
    "    <tr>\n",
    "      <th>NA Bird</th>\n",
    "      <td>47</td>\n",
    "      <td>10</td>\n",
    "    </tr>\n",
    "    <tr>\n",
    "      <th>NA Person</th>\n",
    "      <td>1</td>\n",
    "      <td>42</td>\n",
    "    </tr>\n",
    "  </tbody>\n",
    "</table>"
   ]
  },
  {
   "cell_type": "markdown",
   "id": "a59aa010-11aa-40dd-b9c0-a965126a9e93",
   "metadata": {},
   "source": [
    "1a) first makes less errors, the amount of errors only amounts to 8. The second one has 12 errors."
   ]
  },
  {
   "cell_type": "markdown",
   "id": "08a78438-19fd-42f0-8db5-02fc6db7e260",
   "metadata": {},
   "source": [
    "1b) 2nd better for zoo because it makes less errors about birds falsely reported as humans, and the zoo prefers to idenitify birds more accurately."
   ]
  },
  {
   "cell_type": "markdown",
   "id": "8ed2f49b-cd10-4c32-a3c4-008cbc376545",
   "metadata": {},
   "source": [
    "1c) Still one hundred photos, now only 1 true human and 99 true birds. mistaken bird = %100 that are left"
   ]
  },
  {
   "cell_type": "code",
   "execution_count": 4,
   "id": "e178434f-c29c-46aa-bd4f-a113d066b8d0",
   "metadata": {},
   "outputs": [
    {
     "name": "stdout",
     "output_type": "stream",
     "text": [
      "[556.875, 37.125]\n",
      "[5.423076923076923, 0.5769230769230769]\n",
      "[581.625, 12.375000000000021]\n",
      "[4.846153846153847, 1.1538461538461537]\n",
      "Rounding the numbers to the nearest integer after multiplying the total amount of real birds/people by the previous algorithms % accuracy:\n"
     ]
    }
   ],
   "source": [
    "NA_error_person = 42/52\n",
    "NA_error_bird = 47/48\n",
    "\n",
    "NN_error_person = 47/52\n",
    "NN_error_bird = 45/48\n",
    "\n",
    "NNbird2 = []\n",
    "NNperson2 = []\n",
    "NAbird2 = []\n",
    "NAperson2 = []\n",
    "NNbird2.append(594*NN_error_bird)\n",
    "NNbird2.append(594*(1-NN_error_bird)) \n",
    "\n",
    "NNperson2.append(6*NN_error_person)\n",
    "NNperson2.append(6*(1-NN_error_person))\n",
    "\n",
    "NAbird2.append(594*NA_error_bird)\n",
    "NAbird2.append(594*(1-NA_error_bird)) \n",
    "\n",
    "NAperson2.append(6*NA_error_person)\n",
    "NAperson2.append(6*(1-NA_error_person))\n",
    "print(NNbird2)\n",
    "print(NNperson2)\n",
    "print(NAbird2)\n",
    "print(NAperson2)\n",
    "print('Rounding the numbers to the nearest integer after multiplying the total amount of real birds/people by the previous algorithms % accuracy:')"
   ]
  },
  {
   "cell_type": "markdown",
   "id": "03c525e8-4e67-4c98-8e7e-ed9cef4570e0",
   "metadata": {},
   "source": [
    "<table>\n",
    "  <thead>\n",
    "    <tr>\n",
    "      <th> </th>\n",
    "      <th>True Bird</th>\n",
    "      <th>True Person</th>\n",
    "    </tr>\n",
    "  </thead>\n",
    "  <tbody>\n",
    "    <tr>\n",
    "      <th>NN Bird</th>\n",
    "      <td>557</td>\n",
    "      <td>1</td>\n",
    "    </tr>\n",
    "    <tr>\n",
    "      <th>NN Person</th>  \n",
    "      <td>37</td>\n",
    "      <td>5</td>\n",
    "    </tr>\n",
    "  </tbody>\n",
    "</table>\n",
    "<table>\n",
    "  <thead>\n",
    "    <tr>\n",
    "      <th> </th>\n",
    "      <th>True Bird</th>\n",
    "      <th>True Person</th>\n",
    "    </tr>\n",
    "  </thead>\n",
    "  <tbody>\n",
    "    <tr>\n",
    "      <th>NA Bird</th>\n",
    "      <td>582</td>\n",
    "      <td>2</td>\n",
    "    </tr>\n",
    "    <tr>\n",
    "      <th>NA Person</th>\n",
    "      <td>12</td>\n",
    "      <td>4</td>\n",
    "    </tr>\n",
    "  </tbody>\n",
    "</table>"
   ]
  },
  {
   "cell_type": "markdown",
   "id": "102aa86d-1832-4ebb-aae7-f2f729698fe0",
   "metadata": {},
   "source": [
    "I chose a new number of photos, 600, so that we could see how the algorithm works where 1% of photos = 6. If we stuck with 100 photos then we would have both algorithms always making the right distinction for the one person, which doesn't help us understand the accuracy of the algorithm. Or at least we would get a non integer value for true and false sightings of the person, which does not make sense. "
   ]
  },
  {
   "cell_type": "markdown",
   "id": "8dc49244-844a-4d18-9f05-602c5f8de341",
   "metadata": {},
   "source": [
    "## Problem 2"
   ]
  },
  {
   "cell_type": "markdown",
   "id": "d086a4aa-fd95-44f9-9f08-c835f726d5db",
   "metadata": {},
   "source": [
    "2a) PDF of 2 exponential distributions with equal parameters is an Erlang distribution with shape k = 2 and positive, real $\\lambda$ parameter. Looking up the Erlang distribution, the Erlang distribution is just a special case of a gamma distribution where $\\alpha = k$ and k is any positive integer. \n",
    "\n",
    "https://en.wikipedia.org/wiki/Exponential_distribution\n",
    "\n",
    "https://en.wikipedia.org/wiki/Erlang_distribution\n",
    "\n",
    "https://en.wikipedia.org/wiki/Gamma_distribution"
   ]
  },
  {
   "cell_type": "markdown",
   "id": "fbf2d06e-5d61-4f08-b3a9-a4795647ddab",
   "metadata": {},
   "source": [
    "2b) PDF of ratio of two zero-mean unity variance normal distributions is a standard cauchy distribution of mean = 0 and $\\gamma$ = 0\n",
    "\n",
    "https://en.wikipedia.org/wiki/Normal_distribution\n",
    "\n",
    "https://en.wikipedia.org/wiki/Cauchy_distribution"
   ]
  },
  {
   "cell_type": "markdown",
   "id": "eca9c846-1689-47f2-8cb3-38a2017d00bf",
   "metadata": {},
   "source": [
    "2c) The PDF of the probability of vector amplitudes of a 2D Gaussian would be a Rayleigh distribution. A two-dimensional vector that has bivariate normally distributed components results in a Rayleigh distribution when you calculate the length of the vector as a probability density function.\n",
    "\n",
    "https://en.wikipedia.org/wiki/Multivariate_normal_distribution\n",
    "\n",
    "https://en.wikipedia.org/wiki/Rayleigh_distribution"
   ]
  },
  {
   "cell_type": "code",
   "execution_count": null,
   "id": "33165841-f93d-44e7-98dd-7185d416f85e",
   "metadata": {},
   "outputs": [],
   "source": []
  }
 ],
 "metadata": {
  "kernelspec": {
   "display_name": "Python 3",
   "language": "python",
   "name": "python3"
  },
  "language_info": {
   "codemirror_mode": {
    "name": "ipython",
    "version": 3
   },
   "file_extension": ".py",
   "mimetype": "text/x-python",
   "name": "python",
   "nbconvert_exporter": "python",
   "pygments_lexer": "ipython3",
   "version": "3.8.8"
  }
 },
 "nbformat": 4,
 "nbformat_minor": 5
}
