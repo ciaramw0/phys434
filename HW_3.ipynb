{
 "cells": [
  {
   "cell_type": "code",
   "execution_count": 4,
   "id": "32f500f4-0ff0-491b-8a81-1f1c8009d6f3",
   "metadata": {},
   "outputs": [],
   "source": [
    "import numpy as np\n",
    "import pandas"
   ]
  },
  {
   "cell_type": "markdown",
   "id": "17521272-3fd3-44aa-9e81-8b93263c3270",
   "metadata": {},
   "source": [
    "## Problem 1"
   ]
  },
  {
   "cell_type": "code",
   "execution_count": 11,
   "id": "70ea88c9-408b-44d3-b772-1787bf55ce19",
   "metadata": {},
   "outputs": [],
   "source": [
    "bird = [45,3]\n",
    "person = [5, 47]\n",
    "\n",
    "bird2 = [47,1]\n",
    "person2 = [11,42]"
   ]
  },
  {
   "cell_type": "markdown",
   "id": "56d4e29f-9eef-40c0-9858-b1e0c9f5ebc6",
   "metadata": {},
   "source": [
    "<table>\n",
    "  <thead>\n",
    "    <tr>\n",
    "      <th> </th>\n",
    "      <th>True Bird</th>\n",
    "      <th>True Person</th>\n",
    "    </tr>\n",
    "  </thead>\n",
    "  <tbody>\n",
    "    <tr>\n",
    "      <th>NN Bird</th>\n",
    "      <td>45</td>\n",
    "      <td>5</td>\n",
    "    </tr>\n",
    "    <tr>\n",
    "      <th>NN Person</th>  \n",
    "      <td>3</td>\n",
    "      <td>47</td>\n",
    "    </tr>\n",
    "  </tbody>\n",
    "</table>\n",
    "<table>\n",
    "  <thead>\n",
    "    <tr>\n",
    "      <th> </th>\n",
    "      <th>True Bird</th>\n",
    "      <th>True Person</th>\n",
    "    </tr>\n",
    "  </thead>\n",
    "  <tbody>\n",
    "    <tr>\n",
    "      <th>NA Bird</th>\n",
    "      <td>47</td>\n",
    "      <td>11</td>\n",
    "    </tr>\n",
    "    <tr>\n",
    "      <th>NA Person</th>\n",
    "      <td>1</td>\n",
    "      <td>42</td>\n",
    "    </tr>\n",
    "  </tbody>\n",
    "</table>"
   ]
  },
  {
   "cell_type": "markdown",
   "id": "4c2a56ab-6f09-4116-9dd2-4e27522e6a31",
   "metadata": {},
   "source": [
    "1a) first makes less errors\n",
    "\n",
    "1b) 2nd better for zoo because it makes less mistakes about real birds. \n",
    "\n",
    "1c) NA 42/53 person, 47/48 bird\n",
    "NN 47/53 peson     45/48 bird\n"
   ]
  },
  {
   "cell_type": "markdown",
   "id": "8dc49244-844a-4d18-9f05-602c5f8de341",
   "metadata": {},
   "source": [
    "## Problem 2"
   ]
  },
  {
   "cell_type": "markdown",
   "id": "d086a4aa-fd95-44f9-9f08-c835f726d5db",
   "metadata": {},
   "source": [
    "2a) PDF of 2 exponential distributions with equal parameters is an Erlang distribution with shape parameter k = 1. when $ \\alpha = k$ where the Erlang distribution is special case of a gamma distribution where k is a positive integer. \n",
    "\n",
    "$ X_1 $"
   ]
  },
  {
   "cell_type": "markdown",
   "id": "fbf2d06e-5d61-4f08-b3a9-a4795647ddab",
   "metadata": {},
   "source": [
    "2b) PDF of ratio of two zero-mean unity variance normal distributions is a standard cauchy distribution \n",
    "\n",
    "$ \\frac{1}{\\pi(x^2 + 1)} $ where $ x_0 = 0 $ and $ \\gamma = 1 $"
   ]
  },
  {
   "cell_type": "markdown",
   "id": "eca9c846-1689-47f2-8cb3-38a2017d00bf",
   "metadata": {},
   "source": [
    "2c) The PDF of the probability of vector amplitudes of a 2D Gaussian would be a Rayleigh distribution if the vector components of the bivariate normal distribution are centered at zero and independent. rice distribution? "
   ]
  },
  {
   "cell_type": "code",
   "execution_count": null,
   "id": "33165841-f93d-44e7-98dd-7185d416f85e",
   "metadata": {},
   "outputs": [],
   "source": []
  }
 ],
 "metadata": {
  "kernelspec": {
   "display_name": "Python 3",
   "language": "python",
   "name": "python3"
  },
  "language_info": {
   "codemirror_mode": {
    "name": "ipython",
    "version": 3
   },
   "file_extension": ".py",
   "mimetype": "text/x-python",
   "name": "python",
   "nbconvert_exporter": "python",
   "pygments_lexer": "ipython3",
   "version": "3.8.8"
  }
 },
 "nbformat": 4,
 "nbformat_minor": 5
}
